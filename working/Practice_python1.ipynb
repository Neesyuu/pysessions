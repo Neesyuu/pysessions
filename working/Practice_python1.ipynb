{
 "cells": [
  {
   "cell_type": "code",
   "execution_count": 2,
   "metadata": {
    "collapsed": false
   },
   "outputs": [
    {
     "name": "stdout",
     "output_type": "stream",
     "text": [
      "Your Name : Nischal\n",
      "Enter Your age : 19\n",
      "Dear Nischal you will turn age of 100 after 81 years\n"
     ]
    }
   ],
   "source": [
    "Name = input(\"Your Name : \")\n",
    "Age= input('Enter Your age : ')\n",
    "age=int(Age)\n",
    "age=100-age\n",
    "print('Dear {} you will turn age of 100 after {} years' .format(Name, age))"
   ]
  },
  {
   "cell_type": "code",
   "execution_count": 13,
   "metadata": {
    "collapsed": false
   },
   "outputs": [
    {
     "name": "stdout",
     "output_type": "stream",
     "text": [
      "Your Name : Nischal\n",
      "Enter Your age : 19\n",
      "How many times do you want to print the result? 10\n",
      "Dear Nischal you will turn age of 100 in 2097 AD \n",
      "Dear Nischal you will turn age of 100 in 2097 AD \n",
      "Dear Nischal you will turn age of 100 in 2097 AD \n",
      "Dear Nischal you will turn age of 100 in 2097 AD \n",
      "Dear Nischal you will turn age of 100 in 2097 AD \n",
      "Dear Nischal you will turn age of 100 in 2097 AD \n",
      "Dear Nischal you will turn age of 100 in 2097 AD \n",
      "Dear Nischal you will turn age of 100 in 2097 AD \n",
      "Dear Nischal you will turn age of 100 in 2097 AD \n",
      "Dear Nischal you will turn age of 100 in 2097 AD \n",
      "\n"
     ]
    }
   ],
   "source": [
    "Name = input(\"Your Name : \")\n",
    "Age= input('Enter Your age : ')\n",
    "Number= input('How many times do you want to print the result? ')\n",
    "age=int(Age)\n",
    "age=100-age\n",
    "Year=2016+age\n",
    "Number=int(Number)\n",
    "print(('Dear {} you will turn age of 100 in {} AD \\n' .format(Name, Year))*Number)"
   ]
  },
  {
   "cell_type": "code",
   "execution_count": 19,
   "metadata": {
    "collapsed": false
   },
   "outputs": [
    {
     "data": {
      "text/plain": [
       "datetime.date(2016, 10, 18)"
      ]
     },
     "execution_count": 19,
     "metadata": {},
     "output_type": "execute_result"
    }
   ],
   "source": [
    "from datetime import date\n",
    "date.today()"
   ]
  },
  {
   "cell_type": "code",
   "execution_count": 20,
   "metadata": {
    "collapsed": true
   },
   "outputs": [],
   "source": [
    "now = date.today()"
   ]
  },
  {
   "cell_type": "code",
   "execution_count": 26,
   "metadata": {
    "collapsed": false,
    "scrolled": true
   },
   "outputs": [
    {
     "data": {
      "text/plain": [
       "2016"
      ]
     },
     "execution_count": 26,
     "metadata": {},
     "output_type": "execute_result"
    }
   ],
   "source": [
    "now.year"
   ]
  },
  {
   "cell_type": "markdown",
   "metadata": {},
   "source": [
    "# OR"
   ]
  },
  {
   "cell_type": "code",
   "execution_count": 27,
   "metadata": {
    "collapsed": false,
    "scrolled": true
   },
   "outputs": [
    {
     "data": {
      "text/plain": [
       "'2016'"
      ]
     },
     "execution_count": 27,
     "metadata": {},
     "output_type": "execute_result"
    }
   ],
   "source": [
    "import datetime\n",
    "year=datetime.datetime.now()\n",
    "year=str(year)\n",
    "year[0:4]"
   ]
  },
  {
   "cell_type": "code",
   "execution_count": 25,
   "metadata": {
    "collapsed": false
   },
   "outputs": [
    {
     "name": "stdout",
     "output_type": "stream",
     "text": [
      "Your Name : Nischal\n",
      "Enter Your age : 19\n",
      "How many times do you want to print the result? 5\n",
      "Dear Nischal you will turn age of 100 in 2097 AD \n",
      "Dear Nischal you will turn age of 100 in 2097 AD \n",
      "Dear Nischal you will turn age of 100 in 2097 AD \n",
      "Dear Nischal you will turn age of 100 in 2097 AD \n",
      "Dear Nischal you will turn age of 100 in 2097 AD \n",
      "\n"
     ]
    }
   ],
   "source": [
    "Name = input(\"Your Name : \")\n",
    "Age= input('Enter Your age : ')\n",
    "Number= input('How many times do you want to print the result? ')\n",
    "age=int(Age)\n",
    "age=100-age\n",
    "from datetime import date\n",
    "now=date.today()\n",
    "Year=now.year+age\n",
    "Number=int(Number)\n",
    "print(('Dear {} you will turn age of 100 in {} AD \\n' .format(Name, Year))*Number)"
   ]
  },
  {
   "cell_type": "markdown",
   "metadata": {},
   "source": [
    "## Problem 2"
   ]
  },
  {
   "cell_type": "code",
   "execution_count": 28,
   "metadata": {
    "collapsed": false
   },
   "outputs": [
    {
     "name": "stdout",
     "output_type": "stream",
     "text": [
      "Number5\n",
      "2.5\n"
     ]
    }
   ],
   "source": [
    "num=input('Number')\n",
    "num=int(num)\n",
    "num=(num/2)\n",
    "print(num)"
   ]
  },
  {
   "cell_type": "code",
   "execution_count": 37,
   "metadata": {
    "collapsed": false
   },
   "outputs": [
    {
     "name": "stdout",
     "output_type": "stream",
     "text": [
      "Number : 56\n",
      "The number is EVEN\n"
     ]
    }
   ],
   "source": [
    "num=input('Number : ')\n",
    "num=int(num)\n",
    "rem=num % 2\n",
    "if rem == 1:\n",
    "    print('The number is ODD')\n",
    "else:\n",
    "    print('The number is EVEN')"
   ]
  },
  {
   "cell_type": "code",
   "execution_count": 46,
   "metadata": {
    "collapsed": false
   },
   "outputs": [
    {
     "name": "stdout",
     "output_type": "stream",
     "text": [
      "Number to divide : 95\n",
      "Number which divides : 4\n",
      "95 is not divisible by 4\n"
     ]
    }
   ],
   "source": [
    "num1=input('Number to divide : ')\n",
    "num2=input('Number which divides : ')\n",
    "num1=int(num1)\n",
    "num2=int(num2)\n",
    "rem= num1 % num2\n",
    "if rem == 0: \n",
    "    print('{} is divisible by {}'.format(num1 , num2))\n",
    "else:\n",
    "    print('{} is not divisible by {}'.format(num1 , num2))"
   ]
  },
  {
   "cell_type": "code",
   "execution_count": null,
   "metadata": {
    "collapsed": true
   },
   "outputs": [],
   "source": []
  },
  {
   "cell_type": "markdown",
   "metadata": {},
   "source": [
    "## Problem 3"
   ]
  },
  {
   "cell_type": "code",
   "execution_count": 3,
   "metadata": {
    "collapsed": false
   },
   "outputs": [
    {
     "name": "stdout",
     "output_type": "stream",
     "text": [
      "[1, 1, 2, 3]\n"
     ]
    }
   ],
   "source": [
    "a = [1, 1, 2, 3, 5, 8, 13, 21, 34, 55, 89]\n",
    "b=[]\n",
    "for i in a:\n",
    "    if i < 5:\n",
    "       b.append(i)\n",
    "print(b)"
   ]
  },
  {
   "cell_type": "markdown",
   "metadata": {
    "collapsed": true
   },
   "source": [
    "## Problem 4"
   ]
  },
  {
   "cell_type": "code",
   "execution_count": 13,
   "metadata": {
    "collapsed": false
   },
   "outputs": [
    {
     "name": "stdout",
     "output_type": "stream",
     "text": [
      "Enter any Number : 10\n",
      "\n",
      " [1, 2, 5, 10] divisor of 10\n"
     ]
    }
   ],
   "source": [
    "a= input('Enter any Number : ')\n",
    "a= int(a)\n",
    "b=[]\n",
    "for i in range(1,a+1):\n",
    "    d=a%i\n",
    "    if d==0:\n",
    "        b.append(i)\n",
    "print('\\n {} divisor of {}'.format(b,a))\n",
    "        "
   ]
  },
  {
   "cell_type": "markdown",
   "metadata": {
    "collapsed": true
   },
   "source": [
    "## Problem 5"
   ]
  },
  {
   "cell_type": "code",
   "execution_count": 23,
   "metadata": {
    "collapsed": false
   },
   "outputs": [
    {
     "name": "stdout",
     "output_type": "stream",
     "text": [
      "[1, 2, 3, 5, 8, 13]\n"
     ]
    }
   ],
   "source": [
    "c = [1, 1, 2, 3, 5, 8, 13, 21, 34, 55, 89]\n",
    "e = [1, 2, 3, 4, 5, 6, 7, 8, 9, 10, 11, 12, 13]\n",
    "f=[]\n",
    "num=0\n",
    "for i in e:\n",
    "    if e[num] in c:\n",
    "        f.append(e[num])\n",
    "    num=num+1\n",
    "print(f)"
   ]
  },
  {
   "cell_type": "code",
   "execution_count": 25,
   "metadata": {
    "collapsed": false
   },
   "outputs": [
    {
     "name": "stdout",
     "output_type": "stream",
     "text": [
      "Enter your Name : Nischal\n",
      "you are welcome\n"
     ]
    }
   ],
   "source": [
    "Names=['Nischal','Bizen','Sagun']\n",
    "name= input('Enter your Name : ')\n",
    "if name in Names:\n",
    "    print('you are welcome')"
   ]
  },
  {
   "cell_type": "code",
   "execution_count": 36,
   "metadata": {
    "collapsed": false
   },
   "outputs": [
    {
     "name": "stdout",
     "output_type": "stream",
     "text": [
      "['Nischal', 'Nischal', 'Bizen', 'Bati', 'Suwal']\n"
     ]
    }
   ],
   "source": [
    "name1=['Nischal','Nischal','Bizen','Sagun','Bati','Suwal']\n",
    "name2=['Nischal','Bizen','Suwal','Bati']\n",
    "b=[]\n",
    "if len(name1) < len(name2):\n",
    "    num=len(name2)\n",
    "    name=name2\n",
    "    nam=name1\n",
    "else:\n",
    "    num=len(name1)\n",
    "    name=name1\n",
    "    nam=name2\n",
    "for i in range (0,num):\n",
    "    if name[i] in nam:\n",
    "        b.append(name[i])\n",
    "print(b)"
   ]
  },
  {
   "cell_type": "markdown",
   "metadata": {},
   "source": [
    "## Problem 6"
   ]
  },
  {
   "cell_type": "code",
   "execution_count": 48,
   "metadata": {
    "collapsed": false
   },
   "outputs": [
    {
     "name": "stdout",
     "output_type": "stream",
     "text": [
      "Enter Palindrome word : Nischal\n",
      "['N', 'i', 's', 'c', 'h', 'a', 'l']\n",
      "['l', 'a', 'h', 'c', 's', 'i', 'N']\n"
     ]
    }
   ],
   "source": [
    "name=input('Enter Palindrome word : ')\n",
    "name=list(name)\n",
    "l=len(name)\n",
    "print(name)\n",
    "name1=name[l::-1]\n",
    "print(name1)"
   ]
  },
  {
   "cell_type": "code",
   "execution_count": 54,
   "metadata": {
    "collapsed": false
   },
   "outputs": [
    {
     "name": "stdout",
     "output_type": "stream",
     "text": [
      "Enter Palindrome word : goog\n",
      "The word is Palindrome\n"
     ]
    }
   ],
   "source": [
    "name=input('Enter Palindrome word : ')\n",
    "name=list(name)\n",
    "l=len(name)\n",
    "name1=name[l::-1]\n",
    "if name==name1:\n",
    "    print(\"The word is Palindrome\")\n",
    "else:\n",
    "    print('The word is not Palindrome')"
   ]
  },
  {
   "cell_type": "markdown",
   "metadata": {
    "collapsed": true
   },
   "source": [
    "## PRoblem 7"
   ]
  },
  {
   "cell_type": "code",
   "execution_count": 1,
   "metadata": {
    "collapsed": false
   },
   "outputs": [
    {
     "name": "stdout",
     "output_type": "stream",
     "text": [
      "[4, 16, 36, 64, 100]\n"
     ]
    }
   ],
   "source": [
    "a = [1, 4, 9, 16, 25, 36, 49, 64, 81, 100]\n",
    "b=[]\n",
    "for i in a:\n",
    "    if i%2 == 0:\n",
    "        b.append(i)\n",
    "print(b)"
   ]
  },
  {
   "cell_type": "code",
   "execution_count": 3,
   "metadata": {
    "collapsed": false
   },
   "outputs": [
    {
     "name": "stdout",
     "output_type": "stream",
     "text": [
      "[4, 16, 36, 64, 100]\n"
     ]
    }
   ],
   "source": [
    "a = [1, 4, 9, 16, 25, 36, 49, 64, 81, 100]\n",
    "b=[i for i in a if i%2==0]\n",
    "print(b)"
   ]
  },
  {
   "cell_type": "markdown",
   "metadata": {
    "collapsed": true
   },
   "source": [
    "## Problem 8"
   ]
  },
  {
   "cell_type": "code",
   "execution_count": 28,
   "metadata": {
    "collapsed": false
   },
   "outputs": [
    {
     "name": "stdout",
     "output_type": "stream",
     "text": [
      "Enter Your Name : Nischal\n",
      "Choose Rock OR Scissors OR Paper : roc\n",
      "Enter Your Name : Suawl\n",
      "Choose Rock OR Scissors OR Paper : Rock\n",
      "Invalid input\n"
     ]
    }
   ],
   "source": [
    "p1=input(\"Enter Your Name : \")\n",
    "p1c=input(\"Choose Rock OR Scissors OR Paper : \")\n",
    "p2=input(\"Enter Your Name : \")\n",
    "p2c=input(\"Choose Rock OR Scissors OR Paper : \")\n",
    "def compare (u1,u2):\n",
    "    if u1==u2:\n",
    "        return('Its tie!!')\n",
    "    elif u1 == \"Rock\":\n",
    "            if u2 == \"Scissors\":\n",
    "                return(\"{} wins\".format(p1))\n",
    "            else:\n",
    "                return(\"{} wins\".format(p2))\n",
    "    elif u1 == \"Scissors\":\n",
    "            if u2=='Rock':\n",
    "                return ('{} wins'.format(p2))\n",
    "            else:\n",
    "                return('{} wins'.format(p1))\n",
    "    elif u1=='Paper':\n",
    "            if u2=='Rock':\n",
    "                return('{} wins'.format(p1))\n",
    "            else:\n",
    "                return('{} wins'.format(p2))\n",
    "    else:\n",
    "        return('Invalid input')\n",
    "        sys.exit()\n",
    "    \n",
    "print(compare(p1c,p2c))\n"
   ]
  },
  {
   "cell_type": "markdown",
   "metadata": {
    "collapsed": true
   },
   "source": [
    "## Problem 8"
   ]
  },
  {
   "cell_type": "code",
   "execution_count": 15,
   "metadata": {
    "collapsed": false
   },
   "outputs": [
    {
     "name": "stdout",
     "output_type": "stream",
     "text": [
      "Wanna Guess a Number : hey\n",
      "Guess any number between 1 and 9 : 5\n",
      "You guessed too low\n",
      "Mine guess was 7\n",
      "Wanna Guess a Number : exit\n",
      "Guess any number between 1 and 9 : No\n"
     ]
    },
    {
     "ename": "ValueError",
     "evalue": "invalid literal for int() with base 10: 'No'",
     "output_type": "error",
     "traceback": [
      "\u001b[1;31m\u001b[0m",
      "\u001b[1;31mValueError\u001b[0mTraceback (most recent call last)",
      "\u001b[1;32m<ipython-input-15-b5bb144f0ddf>\u001b[0m in \u001b[0;36m<module>\u001b[1;34m()\u001b[0m\n\u001b[0;32m      9\u001b[0m \u001b[1;33m\u001b[0m\u001b[0m\n\u001b[0;32m     10\u001b[0m     \u001b[0mplay\u001b[0m\u001b[1;33m=\u001b[0m\u001b[0minput\u001b[0m\u001b[1;33m(\u001b[0m\u001b[1;34m\"Guess any number between 1 and 9 : \"\u001b[0m\u001b[1;33m)\u001b[0m\u001b[1;33m\u001b[0m\u001b[0m\n\u001b[1;32m---> 11\u001b[1;33m     \u001b[0mplay\u001b[0m\u001b[1;33m=\u001b[0m\u001b[0mint\u001b[0m\u001b[1;33m(\u001b[0m\u001b[0mplay\u001b[0m\u001b[1;33m)\u001b[0m\u001b[1;33m\u001b[0m\u001b[0m\n\u001b[0m\u001b[0;32m     12\u001b[0m     \u001b[0mcount\u001b[0m \u001b[1;33m+=\u001b[0m \u001b[1;36m1\u001b[0m\u001b[1;33m\u001b[0m\u001b[0m\n\u001b[0;32m     13\u001b[0m \u001b[1;33m\u001b[0m\u001b[0m\n",
      "\u001b[1;31mValueError\u001b[0m: invalid literal for int() with base 10: 'No'"
     ]
    }
   ],
   "source": [
    "import random\n",
    "num=random.randint(1,9)\n",
    "play0=0\n",
    "count=0\n",
    "while play0 != \"Yes\" or play0 !='No':\n",
    "    play0=input('Wanna Guess a Number : ')\n",
    "    if play0 =='No':\n",
    "        break\n",
    "    \n",
    "    play=input(\"Guess any number between 1 and 9 : \")\n",
    "    play=int(play)\n",
    "    count += 1\n",
    "    \n",
    "    if play == num:\n",
    "        print('Your guess is right')\n",
    "        print('Mine guess was {}'.format(num))\n",
    "    elif play < num:\n",
    "        print('You guessed too low')\n",
    "        print('Mine guess was {}'.format(num))\n",
    "    else:\n",
    "        print('You guessed too high')\n",
    "        print('Mine guess was {}'.format(num))\n",
    "print(\"And it only took you\",count,\"tries!\")"
   ]
  },
  {
   "cell_type": "code",
   "execution_count": 17,
   "metadata": {
    "collapsed": false
   },
   "outputs": [
    {
     "name": "stdout",
     "output_type": "stream",
     "text": [
      "What's your guess?exit\n"
     ]
    }
   ],
   "source": [
    "import random\n",
    "\n",
    "number = random.randint(1,9)\n",
    "guess = 0\n",
    "count = 0\n",
    "\n",
    "\n",
    "while guess != number and guess != \"exit\":\n",
    "    guess = input(\"What's your guess?\")\n",
    "    \n",
    "    if guess == \"exit\":\n",
    "        break\n",
    "    \n",
    "    guess = int(guess)\n",
    "    count += 1\n",
    "    \n",
    "    if guess < number:\n",
    "        print(\"Too low!\")\n",
    "    elif guess > number:\n",
    "        print(\"Too high!\")\n",
    "    else:\n",
    "        print(\"You got it!\")\n",
    "        print(\"And it only took you\",count,\"tries!\")"
   ]
  },
  {
   "cell_type": "markdown",
   "metadata": {
    "collapsed": true
   },
   "source": [
    "## Problem 11"
   ]
  },
  {
   "cell_type": "code",
   "execution_count": 2,
   "metadata": {
    "collapsed": false
   },
   "outputs": [
    {
     "name": "stdout",
     "output_type": "stream",
     "text": [
      "Number : 65\n"
     ]
    },
    {
     "ename": "SystemExit",
     "evalue": "Not Prime",
     "output_type": "error",
     "traceback": [
      "An exception has occurred, use %tb to see the full traceback.\n",
      "\u001b[1;31mSystemExit\u001b[0m\u001b[1;31m:\u001b[0m Not Prime\n"
     ]
    },
    {
     "name": "stderr",
     "output_type": "stream",
     "text": [
      "To exit: use 'exit', 'quit', or Ctrl-D.\n"
     ]
    }
   ],
   "source": [
    "import sys\n",
    "a=input('Number : ')\n",
    "a=int(a)\n",
    "b=[]\n",
    "for i in range(2,a-1):\n",
    "    if a % i != 0:\n",
    "        continue\n",
    "    elif a%i == 0:\n",
    "        sys.exit('Not Prime')\n",
    "        b.append('i')\n",
    "print(b)\n",
    "sys.exit('Prime')\n",
    "\n",
    "    "
   ]
  },
  {
   "cell_type": "code",
   "execution_count": 12,
   "metadata": {
    "collapsed": false
   },
   "outputs": [
    {
     "name": "stdout",
     "output_type": "stream",
     "text": [
      "Please enter a number\n",
      ">>>65\n",
      "The number is not prime.\n",
      "The number is not prime.\n",
      "The number is prime.\n"
     ]
    }
   ],
   "source": [
    "number = input(\"Please enter a number\" + \"\\n\" + \">>>\")\n",
    "number = int(number)\n",
    "if number > 0:\n",
    "    for x in range (2, number - 1): #this range excludes number and 1, both of which number is divisible by\n",
    "        if number % x != 0: #If number isn't evenly divisible by x, start over with the next one\n",
    "            continue \n",
    "        elif number % x == 0: #If number is evenly divisible by x, it can't be prime\n",
    "            print(\"The number is not prime.\")\n",
    "    print(\"The number is prime.\") #number wasn't evenly divisible by any x, so it's prime\n",
    "elif number == 0:\n",
    "    print(\"The number is not prime.\") #According to the Google, 0 is not prime\n",
    "else:#if number is less than 0, the number is not prime (according to the Google).\n",
    "    print(\"The number is not prime.\")"
   ]
  },
  {
   "cell_type": "code",
   "execution_count": 16,
   "metadata": {
    "collapsed": false
   },
   "outputs": [
    {
     "name": "stdout",
     "output_type": "stream",
     "text": [
      "Please enter a number\n",
      ">>>98\n"
     ]
    },
    {
     "ename": "SystemExit",
     "evalue": "The number is not prime.",
     "output_type": "error",
     "traceback": [
      "An exception has occurred, use %tb to see the full traceback.\n",
      "\u001b[1;31mSystemExit\u001b[0m\u001b[1;31m:\u001b[0m The number is not prime.\n"
     ]
    },
    {
     "name": "stderr",
     "output_type": "stream",
     "text": [
      "To exit: use 'exit', 'quit', or Ctrl-D.\n"
     ]
    }
   ],
   "source": [
    "import sys\n",
    "number = input(\"Please enter a number\" + \"\\n\" + \">>>\")\n",
    "number = int(number)\n",
    "prime = False #initiate boolean for true false, default false\n",
    "if number > 0:\n",
    "    for x in range (2, number - 1): #this range excludes number and 1, both of which number is divisible by\n",
    "        if number % x != 0: #If number isn't evenly divisible by x, start over with the next one\n",
    "            continue \n",
    "        elif number % x == 0: #If number is evenly divisible by x, it can't be prime\n",
    "            sys.exit(\"The number is not prime.\")\n",
    "    sys.exit(\"The number is prime.\") #number wasn't evenly divisible by any x, so it's prime\n",
    "elif number == 0:\n",
    "    sys.exit(\"The number is not prime.\") #According to the Google, 0 is not prime\n",
    "else:#if number is less than 0, the number is not prime (according to the Google).\n",
    "    sys.exit(\"The number is not prime.\")"
   ]
  },
  {
   "cell_type": "markdown",
   "metadata": {
    "collapsed": true
   },
   "source": [
    "## Problem 12"
   ]
  },
  {
   "cell_type": "code",
   "execution_count": 23,
   "metadata": {
    "collapsed": false
   },
   "outputs": [],
   "source": [
    "def Listing (a):\n",
    "    return [a[0], a[len(a)-1]]"
   ]
  },
  {
   "cell_type": "code",
   "execution_count": 21,
   "metadata": {
    "collapsed": false
   },
   "outputs": [
    {
     "data": {
      "text/plain": [
       "[5, 25]"
      ]
     },
     "execution_count": 21,
     "metadata": {},
     "output_type": "execute_result"
    }
   ],
   "source": [
    "a = [5, 10, 15, 20, 25]\n",
    "Listing (a)"
   ]
  },
  {
   "cell_type": "code",
   "execution_count": 39,
   "metadata": {
    "collapsed": true
   },
   "outputs": [],
   "source": [
    "def listing(a):\n",
    "    b=[]\n",
    "    b.append([a[0], a[len(a)-1]])\n",
    "    return(b)"
   ]
  },
  {
   "cell_type": "code",
   "execution_count": 41,
   "metadata": {
    "collapsed": false
   },
   "outputs": [
    {
     "data": {
      "text/plain": [
       "[[5, 25]]"
      ]
     },
     "execution_count": 41,
     "metadata": {},
     "output_type": "execute_result"
    }
   ],
   "source": [
    "listing(a)"
   ]
  },
  {
   "cell_type": "markdown",
   "metadata": {},
   "source": [
    "## Problem 13"
   ]
  },
  {
   "cell_type": "code",
   "execution_count": 79,
   "metadata": {
    "collapsed": false
   },
   "outputs": [],
   "source": [
    "def fibo(s,t):\n",
    "    r=[s]\n",
    "    while i==t:\n",
    "        r.append(r[i]+r[i-1])\n",
    "        return[r]\n",
    "    print(r)"
   ]
  },
  {
   "cell_type": "code",
   "execution_count": 98,
   "metadata": {
    "collapsed": true
   },
   "outputs": [],
   "source": [
    "def fibo():\n",
    "    s=int(input('Number : '))\n",
    "    if s==0:\n",
    "        fib=[]\n",
    "    elif s==1:\n",
    "        fib=[1]\n",
    "    elif s==2:\n",
    "        fib=[1,1]\n",
    "    elif s>2:\n",
    "        fib=[1,1]\n",
    "        i=1\n",
    "        while i<(s-1):\n",
    "            fib.append(fib[i]+fib[i-1])\n",
    "            i += 1\n",
    "    return fib"
   ]
  },
  {
   "cell_type": "code",
   "execution_count": 99,
   "metadata": {
    "collapsed": false
   },
   "outputs": [
    {
     "name": "stdout",
     "output_type": "stream",
     "text": [
      "Number : 9\n"
     ]
    },
    {
     "data": {
      "text/plain": [
       "[1, 1, 2, 3, 5, 8, 13, 21, 34]"
      ]
     },
     "execution_count": 99,
     "metadata": {},
     "output_type": "execute_result"
    }
   ],
   "source": [
    "fibo()"
   ]
  },
  {
   "cell_type": "markdown",
   "metadata": {},
   "source": [
    "## Problem 14"
   ]
  },
  {
   "cell_type": "code",
   "execution_count": 2,
   "metadata": {
    "collapsed": false
   },
   "outputs": [
    {
     "name": "stdout",
     "output_type": "stream",
     "text": [
      "{1, 2, 3, 4, 5, 6, 7, 8, 9, 10, 11, 12, 13, 17, 19, 23}\n"
     ]
    }
   ],
   "source": [
    "a=[1,2,3,4,5,6,7,8,9,10,11,12]\n",
    "b=[1,2,3,5,7,11,13,17,19,23]\n",
    "c=a+b\n",
    "c=set(c)\n",
    "print(c)"
   ]
  },
  {
   "cell_type": "code",
   "execution_count": 4,
   "metadata": {
    "collapsed": true
   },
   "outputs": [],
   "source": [
    "def settin(a,b):\n",
    "    c=a+b\n",
    "    c=set(c)\n",
    "    print(c)"
   ]
  },
  {
   "cell_type": "code",
   "execution_count": 5,
   "metadata": {
    "collapsed": false
   },
   "outputs": [
    {
     "name": "stdout",
     "output_type": "stream",
     "text": [
      "{1, 2, 3, 4, 5, 6, 7, 8, 9, 10, 11, 12, 13, 17, 19, 23}\n"
     ]
    }
   ],
   "source": [
    "a=[1,2,3,4,5,6,7,8,9,10,11,12]\n",
    "b=[1,2,3,5,7,11,13,17,19,23]\n",
    "settin(a,b)"
   ]
  },
  {
   "cell_type": "code",
   "execution_count": 27,
   "metadata": {
    "collapsed": false
   },
   "outputs": [
    {
     "name": "stdout",
     "output_type": "stream",
     "text": [
      "{1, 2, 3, 4, 5, 6, 7, 8, 9}\n"
     ]
    }
   ],
   "source": [
    "c=[9,8,7,5,1,2,6,6]\n",
    "d=[2,4,8,9,5,3,1,7]\n",
    "settin(c,d)"
   ]
  },
  {
   "cell_type": "code",
   "execution_count": 45,
   "metadata": {
    "collapsed": false
   },
   "outputs": [],
   "source": [
    "def settins(a,b):\n",
    "    a=set(a)\n",
    "    b=set(b)\n",
    "    t=[]\n",
    "    for i in a:\n",
    "        if i in b:\n",
    "            t.append(i)\n",
    "            b.remove(i)\n",
    "        else:\n",
    "            t.append(i) \n",
    "    b=list(b)\n",
    "    r=set(t+b)\n",
    "    print(r)"
   ]
  },
  {
   "cell_type": "code",
   "execution_count": 46,
   "metadata": {
    "collapsed": false
   },
   "outputs": [
    {
     "name": "stdout",
     "output_type": "stream",
     "text": [
      "{1, 2, 3, 4, 5, 6, 7, 8, 9}\n"
     ]
    }
   ],
   "source": [
    "settins(c,d)"
   ]
  },
  {
   "cell_type": "markdown",
   "metadata": {},
   "source": [
    "## Problem 15"
   ]
  },
  {
   "cell_type": "code",
   "execution_count": 51,
   "metadata": {
    "collapsed": false,
    "scrolled": true
   },
   "outputs": [
    {
     "name": "stdout",
     "output_type": "stream",
     "text": [
      "['Hello', 'world']\n",
      "['world', 'Hello']\n"
     ]
    }
   ],
   "source": [
    "a='Hello world'\n",
    "r=a.split()\n",
    "print(r)\n",
    "r=r[::-1]\n",
    "print(r)"
   ]
  },
  {
   "cell_type": "code",
   "execution_count": 59,
   "metadata": {
    "collapsed": false
   },
   "outputs": [
    {
     "name": "stdout",
     "output_type": "stream",
     "text": [
      "Enter any Word : My name is Nischal Suwal\n",
      "Suwal Nischal is name My\n"
     ]
    }
   ],
   "source": [
    "def oppo_name(n):\n",
    "    n=input('Enter any Word : ')\n",
    "    n=n.split()\n",
    "    n=n[::-1]\n",
    "    n=' '.join((n)\n",
    "    print(n)\n",
    "oppo_name(a)\n",
    "    "
   ]
  },
  {
   "cell_type": "code",
   "execution_count": 64,
   "metadata": {
    "collapsed": false
   },
   "outputs": [
    {
     "name": "stdout",
     "output_type": "stream",
     "text": [
      "Enter any Word : My name is Nischal\n",
      "Nischal is name My\n"
     ]
    }
   ],
   "source": [
    "def oppo_name(n):\n",
    "    n=input('Enter any Word : ')\n",
    "    n=' '.join((n.split())[::-1])\n",
    "    print(n)\n",
    "oppo_name(a)    "
   ]
  },
  {
   "cell_type": "markdown",
   "metadata": {},
   "source": [
    "## Problem 16 ........"
   ]
  },
  {
   "cell_type": "code",
   "execution_count": 68,
   "metadata": {
    "collapsed": false
   },
   "outputs": [
    {
     "name": "stdout",
     "output_type": "stream",
     "text": [
      "^j5VXL6@\n"
     ]
    }
   ],
   "source": [
    "import random\n",
    "pas=\"abcdefghijklmnopqrstuvwxyz0123456789ABCDEFGHIJKLMNOPQRSTUVWXYZ!@#$%^&*_+/-\"\n",
    "passlen=8\n",
    "password=\"\".join(random.sample(pas,passlen))\n",
    "print(password)"
   ]
  },
  {
   "cell_type": "code",
   "execution_count": 81,
   "metadata": {
    "collapsed": false
   },
   "outputs": [
    {
     "name": "stdout",
     "output_type": "stream",
     "text": [
      "Password : pass*&word\n",
      "['p', 'a', 's', 's', '*', '&', 'w', 'o', 'r', 'd']\n"
     ]
    },
    {
     "ename": "TypeError",
     "evalue": "'in <string>' requires string as left operand, not list",
     "output_type": "error",
     "traceback": [
      "\u001b[1;31m\u001b[0m",
      "\u001b[1;31mTypeError\u001b[0mTraceback (most recent call last)",
      "\u001b[1;32m<ipython-input-81-32a0b3b6fe1b>\u001b[0m in \u001b[0;36m<module>\u001b[1;34m()\u001b[0m\n\u001b[0;32m      6\u001b[0m \u001b[0ma\u001b[0m\u001b[1;33m=\u001b[0m\u001b[0mlist\u001b[0m\u001b[1;33m(\u001b[0m\u001b[0mpas\u001b[0m\u001b[1;33m)\u001b[0m\u001b[1;33m\u001b[0m\u001b[0m\n\u001b[0;32m      7\u001b[0m \u001b[0mprint\u001b[0m\u001b[1;33m(\u001b[0m\u001b[0ma\u001b[0m\u001b[1;33m)\u001b[0m\u001b[1;33m\u001b[0m\u001b[0m\n\u001b[1;32m----> 8\u001b[1;33m \u001b[1;32mif\u001b[0m \u001b[0ma\u001b[0m \u001b[1;32min\u001b[0m \u001b[0mb\u001b[0m \u001b[1;32mand\u001b[0m \u001b[0mN\u001b[0m \u001b[1;32mand\u001b[0m \u001b[0mB\u001b[0m \u001b[1;32mand\u001b[0m \u001b[0mn\u001b[0m\u001b[1;33m:\u001b[0m\u001b[1;33m\u001b[0m\u001b[0m\n\u001b[0m\u001b[0;32m      9\u001b[0m         \u001b[0mprint\u001b[0m\u001b[1;33m(\u001b[0m\u001b[1;34m\"accepted\"\u001b[0m\u001b[1;33m)\u001b[0m\u001b[1;33m\u001b[0m\u001b[0m\n\u001b[0;32m     10\u001b[0m \u001b[1;32melse\u001b[0m\u001b[1;33m:\u001b[0m\u001b[1;33m\u001b[0m\u001b[0m\n",
      "\u001b[1;31mTypeError\u001b[0m: 'in <string>' requires string as left operand, not list"
     ]
    }
   ],
   "source": [
    "pas=input('Password : ')\n",
    "b=\"abcdefghijklmnopqrstuvwxyz\"\n",
    "N=\"0123456789\"\n",
    "B=\"ABCDEFGHIJKLMNOPQRSTUVWXYZ\"\n",
    "n=\"!@#$%^&*_+/-\"\n",
    "a=list(pas)\n",
    "print(a)\n",
    "if a in b and N and B and n:\n",
    "        print(\"accepted\")\n",
    "else:\n",
    "        print('denied')"
   ]
  },
  {
   "cell_type": "markdown",
   "metadata": {},
   "source": [
    "## Problem 18"
   ]
  },
  {
   "cell_type": "code",
   "execution_count": 6,
   "metadata": {
    "collapsed": false
   },
   "outputs": [
    {
     "name": "stdout",
     "output_type": "stream",
     "text": [
      "Enter Number : 123\n"
     ]
    },
    {
     "ename": "TypeError",
     "evalue": "'int' object is not iterable",
     "output_type": "error",
     "traceback": [
      "\u001b[1;31m\u001b[0m",
      "\u001b[1;31mTypeError\u001b[0mTraceback (most recent call last)",
      "\u001b[1;32m<ipython-input-6-93f122bcabbc>\u001b[0m in \u001b[0;36m<module>\u001b[1;34m()\u001b[0m\n\u001b[0;32m      4\u001b[0m \u001b[0mran\u001b[0m\u001b[1;33m=\u001b[0m\u001b[0mrandom\u001b[0m\u001b[1;33m.\u001b[0m\u001b[0msample\u001b[0m\u001b[1;33m(\u001b[0m\u001b[0ma\u001b[0m\u001b[1;33m,\u001b[0m\u001b[1;36m4\u001b[0m\u001b[1;33m)\u001b[0m\u001b[1;33m\u001b[0m\u001b[0m\n\u001b[0;32m      5\u001b[0m \u001b[0mb\u001b[0m\u001b[1;33m=\u001b[0m\u001b[1;36m0\u001b[0m\u001b[1;33m\u001b[0m\u001b[0m\n\u001b[1;32m----> 6\u001b[1;33m \u001b[1;32mfor\u001b[0m \u001b[0mi\u001b[0m \u001b[1;32min\u001b[0m \u001b[0mnum\u001b[0m\u001b[1;33m:\u001b[0m\u001b[1;33m\u001b[0m\u001b[0m\n\u001b[0m\u001b[0;32m      7\u001b[0m     \u001b[1;32mif\u001b[0m \u001b[0mi\u001b[0m \u001b[1;33m==\u001b[0m \u001b[0mran\u001b[0m\u001b[1;33m[\u001b[0m\u001b[0mb\u001b[0m\u001b[1;33m]\u001b[0m\u001b[1;33m:\u001b[0m\u001b[1;33m\u001b[0m\u001b[0m\n\u001b[0;32m      8\u001b[0m         \u001b[0mprint\u001b[0m\u001b[1;33m(\u001b[0m\u001b[1;34m'Bull'\u001b[0m\u001b[1;33m)\u001b[0m\u001b[1;33m\u001b[0m\u001b[0m\n",
      "\u001b[1;31mTypeError\u001b[0m: 'int' object is not iterable"
     ]
    }
   ],
   "source": [
    "import random\n",
    "num=int(input('Enter Number : '))\n",
    "a='0123456789'\n",
    "ran=random.sample(a,4)\n",
    "b=0\n",
    "for i in num:\n",
    "    if i == ran[b]:\n",
    "        print('Bull')\n",
    "    else:\n",
    "        print('Boo')\n",
    "    b += 1\n",
    "\n"
   ]
  },
  {
   "cell_type": "code",
   "execution_count": null,
   "metadata": {
    "collapsed": true
   },
   "outputs": [],
   "source": []
  },
  {
   "cell_type": "code",
   "execution_count": null,
   "metadata": {
    "collapsed": true
   },
   "outputs": [],
   "source": []
  },
  {
   "cell_type": "code",
   "execution_count": null,
   "metadata": {
    "collapsed": true
   },
   "outputs": [],
   "source": []
  }
 ],
 "metadata": {
  "anaconda-cloud": {},
  "kernelspec": {
   "display_name": "Python [Root]",
   "language": "python",
   "name": "Python [Root]"
  },
  "language_info": {
   "codemirror_mode": {
    "name": "ipython",
    "version": 3
   },
   "file_extension": ".py",
   "mimetype": "text/x-python",
   "name": "python",
   "nbconvert_exporter": "python",
   "pygments_lexer": "ipython3",
   "version": "3.5.2"
  }
 },
 "nbformat": 4,
 "nbformat_minor": 0
}

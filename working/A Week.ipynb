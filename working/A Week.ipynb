{
 "cells": [
  {
   "cell_type": "markdown",
   "metadata": {},
   "source": [
    "# Walkthrough\n",
    "\n",
    "---\n",
    "\n",
    "## Day 1\n",
    "\n",
    "- Define project goal\n",
    "- Collect data from source\n",
    "- Filter collected data \n",
    "\n",
    "### Libraries\n",
    "\n",
    "- requests\n",
    "- beautifulsoup\n",
    "- selenium\n",
    "- pyPDF2\n",
    "\n",
    "## Day 2\n",
    "\n",
    "- Refine and standarize collected data\n",
    "- Get meaniningful result out of it\n",
    "\n",
    "### Libraries\n",
    "\n",
    "- pandas\n",
    "- metplotlib\n",
    "- seaborn\n",
    "\n",
    "## Day 3\n",
    "\n",
    "- create a simple prediction system ( linear regression )\n",
    "\n",
    "### Libraries\n",
    "\n",
    "- scikit-learn\n"
   ]
  },
  {
   "cell_type": "markdown",
   "metadata": {},
   "source": [
    "---------"
   ]
  },
  {
   "cell_type": "markdown",
   "metadata": {},
   "source": [
    "# Define a Project\n",
    "\n",
    "- Econimics ( Share Market )\n",
    "- Population (Rural / Urban Population Growth )\n",
    "- Agriculture\n",
    "- Forest \n",
    "- Climate \n",
    "    - Glacier\n",
    "    - Flood \n",
    "    - Agriculture Impact\n",
    "    \n",
    "Sholud be able to correlate within multiple fields. "
   ]
  },
  {
   "cell_type": "markdown",
   "metadata": {},
   "source": [
    "### open () 'rb'"
   ]
  },
  {
   "cell_type": "code",
   "execution_count": null,
   "metadata": {
    "collapsed": true
   },
   "outputs": [],
   "source": []
  }
 ],
 "metadata": {
  "kernelspec": {
   "display_name": "Python [Root]",
   "language": "python",
   "name": "Python [Root]"
  },
  "language_info": {
   "codemirror_mode": {
    "name": "ipython",
    "version": 3
   },
   "file_extension": ".py",
   "mimetype": "text/x-python",
   "name": "python",
   "nbconvert_exporter": "python",
   "pygments_lexer": "ipython3",
   "version": "3.5.2"
  }
 },
 "nbformat": 4,
 "nbformat_minor": 0
}

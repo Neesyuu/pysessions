{
 "cells": [
  {
   "cell_type": "code",
   "execution_count": 1,
   "metadata": {
    "collapsed": true
   },
   "outputs": [],
   "source": [
    "A=[10,20,30,40,5,6,7,8]"
   ]
  },
  {
   "cell_type": "code",
   "execution_count": 5,
   "metadata": {
    "collapsed": false
   },
   "outputs": [
    {
     "name": "stdout",
     "output_type": "stream",
     "text": [
      "126\n"
     ]
    }
   ],
   "source": [
    "a=0\n",
    "for i in A:\n",
    "    a=a+i\n",
    "print(a)"
   ]
  },
  {
   "cell_type": "code",
   "execution_count": 9,
   "metadata": {
    "collapsed": false
   },
   "outputs": [
    {
     "name": "stdout",
     "output_type": "stream",
     "text": [
      "21944\n"
     ]
    }
   ],
   "source": [
    "B=[10, 538, 1273, 1228, 576, 26 ,508, 424, 641, 823, 42, 134, 12, 929, 26, 343, 960, 1128, 621, 934, 1090, 937, 837, 568, 1147,\n",
    "   561, 122, 899, 407, 602, 27, 408, 1130, 1291, 336, 406]\n",
    "a=0\n",
    "for i in B:\n",
    "    a=a+i\n",
    "print (a)"
   ]
  },
  {
   "cell_type": "code",
   "execution_count": 2,
   "metadata": {
    "collapsed": false
   },
   "outputs": [],
   "source": [
    "C=[100,15,1945]\n",
    "D=[8,245,54]"
   ]
  },
  {
   "cell_type": "code",
   "execution_count": 14,
   "metadata": {
    "collapsed": false
   },
   "outputs": [
    {
     "data": {
      "text/plain": [
       "100"
      ]
     },
     "execution_count": 14,
     "metadata": {},
     "output_type": "execute_result"
    }
   ],
   "source": [
    "C[0]"
   ]
  },
  {
   "cell_type": "code",
   "execution_count": 4,
   "metadata": {
    "collapsed": false
   },
   "outputs": [
    {
     "name": "stdout",
     "output_type": "stream",
     "text": [
      "108\n",
      "260\n",
      "1999\n"
     ]
    }
   ],
   "source": [
    "a=0\n",
    "while a < len(C):\n",
    "    c=C[a] + D[a]\n",
    "    a=a+1\n",
    "    print (c)"
   ]
  },
  {
   "cell_type": "code",
   "execution_count": 6,
   "metadata": {
    "collapsed": false
   },
   "outputs": [
    {
     "name": "stdout",
     "output_type": "stream",
     "text": [
      "1298569\n",
      "599148\n",
      "334426\n",
      "595810\n",
      "865602\n",
      "312936\n",
      "960967\n",
      "1184037\n",
      "1846248\n",
      "721795\n",
      "838962\n",
      "924912\n"
     ]
    }
   ],
   "source": [
    "C=[778715 ,452362 ,156672 ,430624 ,790600 ,19330 ,877953 ,485821 \n",
    "   ,906047 ,616349 ,112088 ,447308] \n",
    "D=[519854,146786,177754,165186,75002,293606,83014,698216,940201\n",
    "   ,105446,726874,477604]\n",
    "a=0\n",
    "while a < len(C):\n",
    "    c=C[a] + D[a]\n",
    "    a=a+1\n",
    "    print (c)"
   ]
  },
  {
   "cell_type": "code",
   "execution_count": 1,
   "metadata": {
    "collapsed": false
   },
   "outputs": [
    {
     "name": "stdout",
     "output_type": "stream",
     "text": [
      " Volume in drive D has no label.\n",
      " Volume Serial Number is 3EA5-BF53\n",
      "\n",
      " Directory of D:\\Git\\working\n",
      "\n",
      "10/25/2016  07:41 AM    <DIR>          .\n",
      "10/25/2016  07:41 AM    <DIR>          ..\n",
      "10/18/2016  08:06 AM    <DIR>          .ipynb_checkpoints\n",
      "10/18/2016  08:41 AM            35,104 First.ipynb\n",
      "10/25/2016  07:41 AM            17,246 Practice_python1.ipynb\n",
      "10/18/2016  08:06 AM             3,839 Second try.ipynb\n",
      "               3 File(s)         56,189 bytes\n",
      "               3 Dir(s)  73,072,304,128 bytes free\n"
     ]
    }
   ],
   "source": [
    "%ls"
   ]
  },
  {
   "cell_type": "code",
   "execution_count": null,
   "metadata": {
    "collapsed": true
   },
   "outputs": [],
   "source": []
  },
  {
   "cell_type": "code",
   "execution_count": null,
   "metadata": {
    "collapsed": true
   },
   "outputs": [],
   "source": []
  },
  {
   "cell_type": "code",
   "execution_count": null,
   "metadata": {
    "collapsed": true
   },
   "outputs": [],
   "source": []
  },
  {
   "cell_type": "code",
   "execution_count": null,
   "metadata": {
    "collapsed": true
   },
   "outputs": [],
   "source": []
  }
 ],
 "metadata": {
  "anaconda-cloud": {},
  "kernelspec": {
   "display_name": "Python [Root]",
   "language": "python",
   "name": "Python [Root]"
  },
  "language_info": {
   "codemirror_mode": {
    "name": "ipython",
    "version": 3
   },
   "file_extension": ".py",
   "mimetype": "text/x-python",
   "name": "python",
   "nbconvert_exporter": "python",
   "pygments_lexer": "ipython3",
   "version": "3.5.2"
  }
 },
 "nbformat": 4,
 "nbformat_minor": 0
}

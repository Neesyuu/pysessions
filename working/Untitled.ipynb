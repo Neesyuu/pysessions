{
 "cells": [
  {
   "cell_type": "code",
   "execution_count": 6,
   "metadata": {
    "collapsed": false
   },
   "outputs": [
    {
     "name": "stdout",
     "output_type": "stream",
     "text": [
      "number : 3.165\n",
      "-1.320000000000005e-05\n"
     ]
    }
   ],
   "source": [
    "a=float(input(\"number : \"))\n",
    "b=(a*10**(-4))-(3.297*10**(-4))\n",
    "print(b)\n"
   ]
  },
  {
   "cell_type": "code",
   "execution_count": 8,
   "metadata": {
    "collapsed": false
   },
   "outputs": [
    {
     "name": "stdout",
     "output_type": "stream",
     "text": [
      "number : 3.107\n",
      "-1.9000000000000028e-05\n"
     ]
    }
   ],
   "source": [
    "a=float(input(\"number : \"))\n",
    "c=(a*10**(-4))-(3.297*10**(-4))\n",
    "print(c)\n"
   ]
  },
  {
   "cell_type": "code",
   "execution_count": 10,
   "metadata": {
    "collapsed": false
   },
   "outputs": [
    {
     "name": "stdout",
     "output_type": "stream",
     "text": [
      "number : 3.154\n",
      "-1.4300000000000022e-05\n"
     ]
    }
   ],
   "source": [
    "a=float(input(\"number : \"))\n",
    "d=(a*10**(-4))-(3.297*10**(-4))\n",
    "print(d)\n"
   ]
  },
  {
   "cell_type": "code",
   "execution_count": 12,
   "metadata": {
    "collapsed": false
   },
   "outputs": [
    {
     "name": "stdout",
     "output_type": "stream",
     "text": [
      "number : 3.327\n",
      "2.9999999999999645e-06\n"
     ]
    }
   ],
   "source": [
    "a=float(input(\"number : \"))\n",
    "e=(a*10**(-4))-(3.297*10**(-4))\n",
    "print(e)\n"
   ]
  },
  {
   "cell_type": "code",
   "execution_count": 13,
   "metadata": {
    "collapsed": false
   },
   "outputs": [
    {
     "name": "stdout",
     "output_type": "stream",
     "text": [
      "number : 3.049\n",
      "-2.480000000000006e-05\n"
     ]
    }
   ],
   "source": [
    "a=float(input(\"number : \"))\n",
    "f=(a*10**(-4))-(3.297*10**(-4))\n",
    "print(f)\n"
   ]
  },
  {
   "cell_type": "code",
   "execution_count": 14,
   "metadata": {
    "collapsed": false
   },
   "outputs": [
    {
     "name": "stdout",
     "output_type": "stream",
     "text": [
      "number : 3.148\n",
      "-1.4900000000000037e-05\n"
     ]
    }
   ],
   "source": [
    "a=float(input(\"number : \"))\n",
    "g=(a*10**(-4))-(3.297*10**(-4))\n",
    "print(g)\n"
   ]
  },
  {
   "cell_type": "code",
   "execution_count": 15,
   "metadata": {
    "collapsed": false
   },
   "outputs": [
    {
     "name": "stdout",
     "output_type": "stream",
     "text": [
      "number : 3.381\n",
      "8.399999999999933e-06\n"
     ]
    }
   ],
   "source": [
    "a=float(input(\"number : \"))\n",
    "h=(a*10**(-4))-(3.297*10**(-4))\n",
    "print(h)\n"
   ]
  },
  {
   "cell_type": "code",
   "execution_count": 16,
   "metadata": {
    "collapsed": false
   },
   "outputs": [
    {
     "name": "stdout",
     "output_type": "stream",
     "text": [
      "number : 3.247\n",
      "-5.000000000000067e-06\n"
     ]
    }
   ],
   "source": [
    "a=float(input(\"number : \"))\n",
    "i=(a*10**(-4))-(3.297*10**(-4))\n",
    "print(i)\n"
   ]
  },
  {
   "cell_type": "code",
   "execution_count": 17,
   "metadata": {
    "collapsed": false
   },
   "outputs": [
    {
     "name": "stdout",
     "output_type": "stream",
     "text": [
      "number : 3.5475\n",
      "2.5049999999999985e-05\n"
     ]
    }
   ],
   "source": [
    "a=float(input(\"number : \"))\n",
    "j=(a*10**(-4))-(3.297*10**(-4))\n",
    "print(j)\n"
   ]
  },
  {
   "cell_type": "code",
   "execution_count": 18,
   "metadata": {
    "collapsed": false
   },
   "outputs": [
    {
     "name": "stdout",
     "output_type": "stream",
     "text": [
      "number : 3.848\n",
      "5.5099999999999984e-05\n"
     ]
    }
   ],
   "source": [
    "a=float(input(\"number : \"))\n",
    "k=(a*10**(-4))-(3.297*10**(-4))\n",
    "print(k)\n"
   ]
  },
  {
   "cell_type": "code",
   "execution_count": 19,
   "metadata": {
    "collapsed": false
   },
   "outputs": [
    {
     "name": "stdout",
     "output_type": "stream",
     "text": [
      "1.742400000000013e-10\n",
      "3.610000000000011e-10\n",
      "2.0449000000000063e-10\n",
      "8.999999999999786e-12\n",
      "6.15040000000003e-10\n",
      "2.220100000000011e-10\n",
      "7.055999999999888e-11\n",
      "2.5000000000000673e-11\n",
      "6.275024999999993e-10\n",
      "3.036009999999998e-09\n",
      "5.3448525000000035e-09\n"
     ]
    }
   ],
   "source": [
    "b=b**2\n",
    "print(b)\n",
    "c=c**2\n",
    "print(c)\n",
    "d=d**2\n",
    "print(d)\n",
    "e=e**2\n",
    "print(e)\n",
    "f=f**2\n",
    "print(f)\n",
    "g=g**2\n",
    "print(g)\n",
    "h=h**2\n",
    "print(h)\n",
    "i=i**2\n",
    "print(i)\n",
    "j=j**2\n",
    "print(j)\n",
    "k=k**2\n",
    "print(k)\n",
    "l=b+c+d+e+f+g+h+i+j+k\n",
    "print(l)\n"
   ]
  },
  {
   "cell_type": "code",
   "execution_count": null,
   "metadata": {
    "collapsed": true
   },
   "outputs": [],
   "source": []
  }
 ],
 "metadata": {
  "kernelspec": {
   "display_name": "Python [Root]",
   "language": "python",
   "name": "Python [Root]"
  },
  "language_info": {
   "codemirror_mode": {
    "name": "ipython",
    "version": 3
   },
   "file_extension": ".py",
   "mimetype": "text/x-python",
   "name": "python",
   "nbconvert_exporter": "python",
   "pygments_lexer": "ipython3",
   "version": "3.5.2"
  }
 },
 "nbformat": 4,
 "nbformat_minor": 0
}

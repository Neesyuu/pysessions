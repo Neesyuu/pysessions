{
 "cells": [
  {
   "cell_type": "code",
   "execution_count": 4,
   "metadata": {
    "collapsed": false
   },
   "outputs": [
    {
     "name": "stdout",
     "output_type": "stream",
     "text": [
      "Your Name : Nischal\n",
      "Enter Your age : 19\n",
      "Dear Nischal you will turn age of 100 age after 81 years\n"
     ]
    }
   ],
   "source": [
    "Name = input(\"Your Name : \")\n",
    "Age= input('Enter Your age : ')\n",
    "age=int(Age)\n",
    "age=100-age\n",
    "print('Dear {} you will turn age of 100 age after {} years' .format(Name, age))"
   ]
  },
  {
   "cell_type": "code",
   "execution_count": 13,
   "metadata": {
    "collapsed": false
   },
   "outputs": [
    {
     "name": "stdout",
     "output_type": "stream",
     "text": [
      "Your Name : Nischal\n",
      "Enter Your age : 19\n",
      "How many times do you want to print the result? 10\n",
      "Dear Nischal you will turn age of 100 in 2097 AD \n",
      "Dear Nischal you will turn age of 100 in 2097 AD \n",
      "Dear Nischal you will turn age of 100 in 2097 AD \n",
      "Dear Nischal you will turn age of 100 in 2097 AD \n",
      "Dear Nischal you will turn age of 100 in 2097 AD \n",
      "Dear Nischal you will turn age of 100 in 2097 AD \n",
      "Dear Nischal you will turn age of 100 in 2097 AD \n",
      "Dear Nischal you will turn age of 100 in 2097 AD \n",
      "Dear Nischal you will turn age of 100 in 2097 AD \n",
      "Dear Nischal you will turn age of 100 in 2097 AD \n",
      "\n"
     ]
    }
   ],
   "source": [
    "Name = input(\"Your Name : \")\n",
    "Age= input('Enter Your age : ')\n",
    "Number= input('How many times do you want to print the result? ')\n",
    "age=int(Age)\n",
    "age=100-age\n",
    "Year=2016+age\n",
    "Number=int(Number)\n",
    "print(('Dear {} you will turn age of 100 in {} AD \\n' .format(Name, Year))*Number)"
   ]
  },
  {
   "cell_type": "code",
   "execution_count": 19,
   "metadata": {
    "collapsed": false
   },
   "outputs": [
    {
     "data": {
      "text/plain": [
       "datetime.date(2016, 10, 18)"
      ]
     },
     "execution_count": 19,
     "metadata": {},
     "output_type": "execute_result"
    }
   ],
   "source": [
    "from datetime import date\n",
    "date.today()"
   ]
  },
  {
   "cell_type": "code",
   "execution_count": 20,
   "metadata": {
    "collapsed": true
   },
   "outputs": [],
   "source": [
    "now = date.today()"
   ]
  },
  {
   "cell_type": "code",
   "execution_count": 26,
   "metadata": {
    "collapsed": false,
    "scrolled": true
   },
   "outputs": [
    {
     "data": {
      "text/plain": [
       "2016"
      ]
     },
     "execution_count": 26,
     "metadata": {},
     "output_type": "execute_result"
    }
   ],
   "source": [
    "now.year"
   ]
  },
  {
   "cell_type": "markdown",
   "metadata": {},
   "source": [
    "# OR"
   ]
  },
  {
   "cell_type": "code",
   "execution_count": 27,
   "metadata": {
    "collapsed": false,
    "scrolled": true
   },
   "outputs": [
    {
     "data": {
      "text/plain": [
       "'2016'"
      ]
     },
     "execution_count": 27,
     "metadata": {},
     "output_type": "execute_result"
    }
   ],
   "source": [
    "import datetime\n",
    "year=datetime.datetime.now()\n",
    "year=str(year)\n",
    "year[0:4]"
   ]
  },
  {
   "cell_type": "code",
   "execution_count": 25,
   "metadata": {
    "collapsed": false
   },
   "outputs": [
    {
     "name": "stdout",
     "output_type": "stream",
     "text": [
      "Your Name : Nischal\n",
      "Enter Your age : 19\n",
      "How many times do you want to print the result? 5\n",
      "Dear Nischal you will turn age of 100 in 2097 AD \n",
      "Dear Nischal you will turn age of 100 in 2097 AD \n",
      "Dear Nischal you will turn age of 100 in 2097 AD \n",
      "Dear Nischal you will turn age of 100 in 2097 AD \n",
      "Dear Nischal you will turn age of 100 in 2097 AD \n",
      "\n"
     ]
    }
   ],
   "source": [
    "Name = input(\"Your Name : \")\n",
    "Age= input('Enter Your age : ')\n",
    "Number= input('How many times do you want to print the result? ')\n",
    "age=int(Age)\n",
    "age=100-age\n",
    "from datetime import date\n",
    "now=date.today()\n",
    "Year=now.year+age\n",
    "Number=int(Number)\n",
    "print(('Dear {} you will turn age of 100 in {} AD \\n' .format(Name, Year))*Number)"
   ]
  },
  {
   "cell_type": "markdown",
   "metadata": {},
   "source": [
    "## Problem 2"
   ]
  },
  {
   "cell_type": "code",
   "execution_count": 28,
   "metadata": {
    "collapsed": false
   },
   "outputs": [
    {
     "name": "stdout",
     "output_type": "stream",
     "text": [
      "Number5\n",
      "2.5\n"
     ]
    }
   ],
   "source": [
    "num=input('Number')\n",
    "num=int(num)\n",
    "num=(num/2)\n",
    "print(num)"
   ]
  },
  {
   "cell_type": "code",
   "execution_count": 37,
   "metadata": {
    "collapsed": false
   },
   "outputs": [
    {
     "name": "stdout",
     "output_type": "stream",
     "text": [
      "Number : 56\n",
      "The number is EVEN\n"
     ]
    }
   ],
   "source": [
    "num=input('Number : ')\n",
    "num=int(num)\n",
    "rem=num % 2\n",
    "if rem == 1:\n",
    "    print('The number is ODD')\n",
    "else:\n",
    "    print('The number is EVEN')"
   ]
  },
  {
   "cell_type": "code",
   "execution_count": 46,
   "metadata": {
    "collapsed": false
   },
   "outputs": [
    {
     "name": "stdout",
     "output_type": "stream",
     "text": [
      "Number to divide : 95\n",
      "Number which divides : 4\n",
      "95 is not divisible by 4\n"
     ]
    }
   ],
   "source": [
    "num1=input('Number to divide : ')\n",
    "num2=input('Number which divides : ')\n",
    "num1=int(num1)\n",
    "num2=int(num2)\n",
    "rem= num1 % num2\n",
    "if rem == 0: \n",
    "    print('{} is divisible by {}'.format(num1 , num2))\n",
    "else:\n",
    "    print('{} is not divisible by {}'.format(num1 , num2))"
   ]
  },
  {
   "cell_type": "code",
   "execution_count": null,
   "metadata": {
    "collapsed": true
   },
   "outputs": [],
   "source": []
  },
  {
   "cell_type": "markdown",
   "metadata": {},
   "source": [
    "## Problem 3"
   ]
  },
  {
   "cell_type": "code",
   "execution_count": 3,
   "metadata": {
    "collapsed": false
   },
   "outputs": [
    {
     "name": "stdout",
     "output_type": "stream",
     "text": [
      "[1, 1, 2, 3]\n"
     ]
    }
   ],
   "source": [
    "a = [1, 1, 2, 3, 5, 8, 13, 21, 34, 55, 89]\n",
    "b=[]\n",
    "for i in a:\n",
    "    if i < 5:\n",
    "       b.append(i)\n",
    "print(b)"
   ]
  },
  {
   "cell_type": "markdown",
   "metadata": {
    "collapsed": true
   },
   "source": [
    "## Problem 4"
   ]
  },
  {
   "cell_type": "code",
   "execution_count": 13,
   "metadata": {
    "collapsed": false
   },
   "outputs": [
    {
     "name": "stdout",
     "output_type": "stream",
     "text": [
      "Enter any Number : 10\n",
      "\n",
      " [1, 2, 5, 10] divisor of 10\n"
     ]
    }
   ],
   "source": [
    "a= input('Enter any Number : ')\n",
    "a= int(a)\n",
    "b=[]\n",
    "for i in range(1,a+1):\n",
    "    d=a%i\n",
    "    if d==0:\n",
    "        b.append(i)\n",
    "print('\\n {} divisor of {}'.format(b,a))\n",
    "        "
   ]
  },
  {
   "cell_type": "markdown",
   "metadata": {
    "collapsed": true
   },
   "source": [
    "## Problem 5"
   ]
  },
  {
   "cell_type": "code",
   "execution_count": 23,
   "metadata": {
    "collapsed": false
   },
   "outputs": [
    {
     "name": "stdout",
     "output_type": "stream",
     "text": [
      "[1, 2, 3, 5, 8, 13]\n"
     ]
    }
   ],
   "source": [
    "c = [1, 1, 2, 3, 5, 8, 13, 21, 34, 55, 89]\n",
    "e = [1, 2, 3, 4, 5, 6, 7, 8, 9, 10, 11, 12, 13]\n",
    "f=[]\n",
    "num=0\n",
    "for i in e:\n",
    "    if e[num] in c:\n",
    "        f.append(e[num])\n",
    "    num=num+1\n",
    "print(f)"
   ]
  },
  {
   "cell_type": "code",
   "execution_count": 25,
   "metadata": {
    "collapsed": false
   },
   "outputs": [
    {
     "name": "stdout",
     "output_type": "stream",
     "text": [
      "Enter your Name : Nischal\n",
      "you are welcome\n"
     ]
    }
   ],
   "source": [
    "Names=['Nischal','Bizen','Sagun']\n",
    "name= input('Enter your Name : ')\n",
    "if name in Names:\n",
    "    print('you are welcome')"
   ]
  },
  {
   "cell_type": "code",
   "execution_count": 36,
   "metadata": {
    "collapsed": false
   },
   "outputs": [
    {
     "name": "stdout",
     "output_type": "stream",
     "text": [
      "['Nischal', 'Nischal', 'Bizen', 'Bati', 'Suwal']\n"
     ]
    }
   ],
   "source": [
    "name1=['Nischal','Nischal','Bizen','Sagun','Bati','Suwal']\n",
    "name2=['Nischal','Bizen','Suwal','Bati']\n",
    "b=[]\n",
    "if len(name1) < len(name2):\n",
    "    num=len(name2)\n",
    "    name=name2\n",
    "    nam=name1\n",
    "else:\n",
    "    num=len(name1)\n",
    "    name=name1\n",
    "    nam=name2\n",
    "for i in range (0,num):\n",
    "    if name[i] in nam:\n",
    "        b.append(name[i])\n",
    "print(b)"
   ]
  },
  {
   "cell_type": "markdown",
   "metadata": {},
   "source": [
    "## Problem 6"
   ]
  },
  {
   "cell_type": "code",
   "execution_count": 48,
   "metadata": {
    "collapsed": false
   },
   "outputs": [
    {
     "name": "stdout",
     "output_type": "stream",
     "text": [
      "Enter Palindrome word : Nischal\n",
      "['N', 'i', 's', 'c', 'h', 'a', 'l']\n",
      "['l', 'a', 'h', 'c', 's', 'i', 'N']\n"
     ]
    }
   ],
   "source": [
    "name=input('Enter Palindrome word : ')\n",
    "name=list(name)\n",
    "l=len(name)\n",
    "print(name)\n",
    "name1=name[l::-1]\n",
    "print(name1)"
   ]
  },
  {
   "cell_type": "code",
   "execution_count": 54,
   "metadata": {
    "collapsed": false
   },
   "outputs": [
    {
     "name": "stdout",
     "output_type": "stream",
     "text": [
      "Enter Palindrome word : goog\n",
      "The word is Palindrome\n"
     ]
    }
   ],
   "source": [
    "name=input('Enter Palindrome word : ')\n",
    "name=list(name)\n",
    "l=len(name)\n",
    "name1=name[l::-1]\n",
    "if name==name1:\n",
    "    print(\"The word is Palindrome\")\n",
    "else:\n",
    "    print('The word is not Palindrome')"
   ]
  },
  {
   "cell_type": "markdown",
   "metadata": {
    "collapsed": true
   },
   "source": [
    "## PRoblem 7"
   ]
  },
  {
   "cell_type": "code",
   "execution_count": 1,
   "metadata": {
    "collapsed": false
   },
   "outputs": [
    {
     "name": "stdout",
     "output_type": "stream",
     "text": [
      "[4, 16, 36, 64, 100]\n"
     ]
    }
   ],
   "source": [
    "a = [1, 4, 9, 16, 25, 36, 49, 64, 81, 100]\n",
    "b=[]\n",
    "for i in a:\n",
    "    if i%2 == 0:\n",
    "        b.append(i)\n",
    "print(b)"
   ]
  },
  {
   "cell_type": "code",
   "execution_count": 3,
   "metadata": {
    "collapsed": false
   },
   "outputs": [
    {
     "name": "stdout",
     "output_type": "stream",
     "text": [
      "[4, 16, 36, 64, 100]\n"
     ]
    }
   ],
   "source": [
    "a = [1, 4, 9, 16, 25, 36, 49, 64, 81, 100]\n",
    "b=[i for i in a if i%2==0]\n",
    "print(b)"
   ]
  },
  {
   "cell_type": "markdown",
   "metadata": {
    "collapsed": true
   },
   "source": [
    "## Problem 8"
   ]
  },
  {
   "cell_type": "code",
   "execution_count": 28,
   "metadata": {
    "collapsed": false
   },
   "outputs": [
    {
     "name": "stdout",
     "output_type": "stream",
     "text": [
      "Enter Your Name : Nischal\n",
      "Choose Rock OR Scissors OR Paper : roc\n",
      "Enter Your Name : Suawl\n",
      "Choose Rock OR Scissors OR Paper : Rock\n",
      "Invalid input\n"
     ]
    }
   ],
   "source": [
    "p1=input(\"Enter Your Name : \")\n",
    "p1c=input(\"Choose Rock OR Scissors OR Paper : \")\n",
    "p2=input(\"Enter Your Name : \")\n",
    "p2c=input(\"Choose Rock OR Scissors OR Paper : \")\n",
    "def compare (u1,u2):\n",
    "    if u1==u2:\n",
    "        return('Its tie!!')\n",
    "    elif u1 == \"Rock\":\n",
    "            if u2 == \"Scissors\":\n",
    "                return(\"{} wins\".format(p1))\n",
    "            else:\n",
    "                return(\"{} wins\".format(p2))\n",
    "    elif u1 == \"Scissors\":\n",
    "            if u2=='Rock':\n",
    "                return ('{} wins'.format(p2))\n",
    "            else:\n",
    "                return('{} wins'.format(p1))\n",
    "    elif u1=='Paper':\n",
    "            if u2=='Rock':\n",
    "                return('{} wins'.format(p1))\n",
    "            else:\n",
    "                return('{} wins'.format(p2))\n",
    "    else:\n",
    "        return('Invalid input')\n",
    "        sys.exit()\n",
    "    \n",
    "print(compare(p1c,p2c))\n"
   ]
  },
  {
   "cell_type": "code",
   "execution_count": null,
   "metadata": {
    "collapsed": true
   },
   "outputs": [],
   "source": []
  },
  {
   "cell_type": "code",
   "execution_count": null,
   "metadata": {
    "collapsed": true
   },
   "outputs": [],
   "source": []
  },
  {
   "cell_type": "code",
   "execution_count": null,
   "metadata": {
    "collapsed": true
   },
   "outputs": [],
   "source": []
  }
 ],
 "metadata": {
  "anaconda-cloud": {},
  "kernelspec": {
   "display_name": "Python [Root]",
   "language": "python",
   "name": "Python [Root]"
  },
  "language_info": {
   "codemirror_mode": {
    "name": "ipython",
    "version": 3
   },
   "file_extension": ".py",
   "mimetype": "text/x-python",
   "name": "python",
   "nbconvert_exporter": "python",
   "pygments_lexer": "ipython3",
   "version": "3.5.2"
  }
 },
 "nbformat": 4,
 "nbformat_minor": 0
}

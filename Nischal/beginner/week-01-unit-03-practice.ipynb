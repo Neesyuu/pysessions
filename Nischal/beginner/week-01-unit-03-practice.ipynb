{
 "cells": [
  {
   "cell_type": "markdown",
   "metadata": {},
   "source": [
    "# Practice\n",
    "---"
   ]
  },
  {
   "cell_type": "markdown",
   "metadata": {},
   "source": [
    "**Perform these operations on your library**\n",
    "\n",
    "Pre-requisite: Should have completed last practice session\n",
    "\n",
    "- List all the books\n",
    "- List all the books by certain tags\n",
    "- List all the magazines\n",
    "- List all books by category\n",
    "\n",
    "*Note: Use for/ifelse on your datastructure*"
   ]
  },
  {
   "cell_type": "code",
   "execution_count": 1,
   "metadata": {
    "collapsed": true
   },
   "outputs": [],
   "source": [
    "Book1 = [{'Name':'All about Love', \n",
    "         'Category':'Love Story', \n",
    "         'Type':'Book', \n",
    "         'Writter':'Bell Hooks'}]"
   ]
  },
  {
   "cell_type": "code",
   "execution_count": 2,
   "metadata": {
    "collapsed": true
   },
   "outputs": [],
   "source": [
    "Book2=[{'Name':'Object-Oriented Programming', \n",
    "        'Category':'Computer Science', \n",
    "        'Type':'Book', \n",
    "        'Writter':'E Balagurusamy'}]"
   ]
  },
  {
   "cell_type": "code",
   "execution_count": 3,
   "metadata": {
    "collapsed": false
   },
   "outputs": [
    {
     "data": {
      "text/plain": [
       "{'Category': 'Love Story',\n",
       " 'Name': 'All about Love',\n",
       " 'Type': 'Book',\n",
       " 'Writter': 'Bell Hooks'}"
      ]
     },
     "execution_count": 3,
     "metadata": {},
     "output_type": "execute_result"
    }
   ],
   "source": [
    "Book1"
   ]
  },
  {
   "cell_type": "code",
   "execution_count": 6,
   "metadata": {
    "collapsed": true
   },
   "outputs": [],
   "source": [
    "Book3={'Name':'OOP with C++', \n",
    "       'Category':'Computer Science', \n",
    "       'Type':'Magazine', \n",
    "       'Writter':'EBME'}"
   ]
  },
  {
   "cell_type": "code",
   "execution_count": 12,
   "metadata": {
    "collapsed": false
   },
   "outputs": [
    {
     "data": {
      "text/plain": [
       "{'Category': 'Computer Science',\n",
       " 'Name': 'Object-Oriented Programming',\n",
       " 'Type': 'Book',\n",
       " 'Writter': 'E Balagurusamy'}"
      ]
     },
     "execution_count": 12,
     "metadata": {},
     "output_type": "execute_result"
    }
   ],
   "source": [
    "Book2"
   ]
  },
  {
   "cell_type": "code",
   "execution_count": 13,
   "metadata": {
    "collapsed": false
   },
   "outputs": [
    {
     "data": {
      "text/plain": [
       "{'Category': 'Computer Science',\n",
       " 'Name': 'OOP with C++',\n",
       " 'Type': 'Magazine',\n",
       " 'Writter': 'EBME'}"
      ]
     },
     "execution_count": 13,
     "metadata": {},
     "output_type": "execute_result"
    }
   ],
   "source": [
    "Book3"
   ]
  },
  {
   "cell_type": "code",
   "execution_count": 16,
   "metadata": {
    "collapsed": false
   },
   "outputs": [
    {
     "data": {
      "text/plain": [
       "['Writter', 'Type', 'Name', 'Category']"
      ]
     },
     "execution_count": 16,
     "metadata": {},
     "output_type": "execute_result"
    }
   ],
   "source": [
    "list (Book3.keys())"
   ]
  },
  {
   "cell_type": "code",
   "execution_count": null,
   "metadata": {
    "collapsed": true
   },
   "outputs": [],
   "source": []
  },
  {
   "cell_type": "code",
   "execution_count": null,
   "metadata": {
    "collapsed": true
   },
   "outputs": [],
   "source": []
  }
 ],
 "metadata": {
  "kernelspec": {
   "display_name": "Python [Root]",
   "language": "python",
   "name": "Python [Root]"
  },
  "language_info": {
   "codemirror_mode": {
    "name": "ipython",
    "version": 3
   },
   "file_extension": ".py",
   "mimetype": "text/x-python",
   "name": "python",
   "nbconvert_exporter": "python",
   "pygments_lexer": "ipython3",
   "version": "3.5.2"
  }
 },
 "nbformat": 4,
 "nbformat_minor": 0
}

{
 "cells": [
  {
   "cell_type": "code",
   "execution_count": 4,
   "metadata": {
    "collapsed": false
   },
   "outputs": [
    {
     "name": "stdout",
     "output_type": "stream",
     "text": [
      "Your Name : Nischal\n",
      "Enter Your age : 19\n",
      "Dear Nischal you will turn age of 100 age after 81 years\n"
     ]
    }
   ],
   "source": [
    "Name = input(\"Your Name : \")\n",
    "Age= input('Enter Your age : ')\n",
    "age=int(Age)\n",
    "age=100-age\n",
    "print('Dear {} you will turn age of 100 age after {} years' .format(Name, age))"
   ]
  },
  {
   "cell_type": "code",
   "execution_count": 13,
   "metadata": {
    "collapsed": false
   },
   "outputs": [
    {
     "name": "stdout",
     "output_type": "stream",
     "text": [
      "Your Name : Nischal\n",
      "Enter Your age : 19\n",
      "How many times do you want to print the result? 10\n",
      "Dear Nischal you will turn age of 100 in 2097 AD \n",
      "Dear Nischal you will turn age of 100 in 2097 AD \n",
      "Dear Nischal you will turn age of 100 in 2097 AD \n",
      "Dear Nischal you will turn age of 100 in 2097 AD \n",
      "Dear Nischal you will turn age of 100 in 2097 AD \n",
      "Dear Nischal you will turn age of 100 in 2097 AD \n",
      "Dear Nischal you will turn age of 100 in 2097 AD \n",
      "Dear Nischal you will turn age of 100 in 2097 AD \n",
      "Dear Nischal you will turn age of 100 in 2097 AD \n",
      "Dear Nischal you will turn age of 100 in 2097 AD \n",
      "\n"
     ]
    }
   ],
   "source": [
    "Name = input(\"Your Name : \")\n",
    "Age= input('Enter Your age : ')\n",
    "Number= input('How many times do you want to print the result? ')\n",
    "age=int(Age)\n",
    "age=100-age\n",
    "Year=2016+age\n",
    "Number=int(Number)\n",
    "print(('Dear {} you will turn age of 100 in {} AD \\n' .format(Name, Year))*Number)"
   ]
  },
  {
   "cell_type": "code",
   "execution_count": 19,
   "metadata": {
    "collapsed": false
   },
   "outputs": [
    {
     "data": {
      "text/plain": [
       "datetime.date(2016, 10, 18)"
      ]
     },
     "execution_count": 19,
     "metadata": {},
     "output_type": "execute_result"
    }
   ],
   "source": [
    "from datetime import date\n",
    "date.today()"
   ]
  },
  {
   "cell_type": "code",
   "execution_count": 20,
   "metadata": {
    "collapsed": true
   },
   "outputs": [],
   "source": [
    "now = date.today()"
   ]
  },
  {
   "cell_type": "code",
   "execution_count": 26,
   "metadata": {
    "collapsed": false,
    "scrolled": true
   },
   "outputs": [
    {
     "data": {
      "text/plain": [
       "2016"
      ]
     },
     "execution_count": 26,
     "metadata": {},
     "output_type": "execute_result"
    }
   ],
   "source": [
    "now.year"
   ]
  },
  {
   "cell_type": "markdown",
   "metadata": {},
   "source": [
    "# OR"
   ]
  },
  {
   "cell_type": "code",
   "execution_count": 27,
   "metadata": {
    "collapsed": false,
    "scrolled": true
   },
   "outputs": [
    {
     "data": {
      "text/plain": [
       "'2016'"
      ]
     },
     "execution_count": 27,
     "metadata": {},
     "output_type": "execute_result"
    }
   ],
   "source": [
    "import datetime\n",
    "year=datetime.datetime.now()\n",
    "year=str(year)\n",
    "year[0:4]"
   ]
  },
  {
   "cell_type": "code",
   "execution_count": 25,
   "metadata": {
    "collapsed": false
   },
   "outputs": [
    {
     "name": "stdout",
     "output_type": "stream",
     "text": [
      "Your Name : Nischal\n",
      "Enter Your age : 19\n",
      "How many times do you want to print the result? 5\n",
      "Dear Nischal you will turn age of 100 in 2097 AD \n",
      "Dear Nischal you will turn age of 100 in 2097 AD \n",
      "Dear Nischal you will turn age of 100 in 2097 AD \n",
      "Dear Nischal you will turn age of 100 in 2097 AD \n",
      "Dear Nischal you will turn age of 100 in 2097 AD \n",
      "\n"
     ]
    }
   ],
   "source": [
    "Name = input(\"Your Name : \")\n",
    "Age= input('Enter Your age : ')\n",
    "Number= input('How many times do you want to print the result? ')\n",
    "age=int(Age)\n",
    "age=100-age\n",
    "from datetime import date\n",
    "now=date.today()\n",
    "Year=now.year+age\n",
    "Number=int(Number)\n",
    "print(('Dear {} you will turn age of 100 in {} AD \\n' .format(Name, Year))*Number)"
   ]
  },
  {
   "cell_type": "markdown",
   "metadata": {},
   "source": [
    "## Problem 2"
   ]
  },
  {
   "cell_type": "code",
   "execution_count": 28,
   "metadata": {
    "collapsed": false
   },
   "outputs": [
    {
     "name": "stdout",
     "output_type": "stream",
     "text": [
      "Number5\n",
      "2.5\n"
     ]
    }
   ],
   "source": [
    "num=input('Number')\n",
    "num=int(num)\n",
    "num=(num/2)\n",
    "print(num)"
   ]
  },
  {
   "cell_type": "code",
   "execution_count": 37,
   "metadata": {
    "collapsed": false
   },
   "outputs": [
    {
     "name": "stdout",
     "output_type": "stream",
     "text": [
      "Number : 56\n",
      "The number is EVEN\n"
     ]
    }
   ],
   "source": [
    "num=input('Number : ')\n",
    "num=int(num)\n",
    "rem=num % 2\n",
    "if rem == 1:\n",
    "    print('The number is ODD')\n",
    "else:\n",
    "    print('The number is EVEN')"
   ]
  },
  {
   "cell_type": "code",
   "execution_count": 46,
   "metadata": {
    "collapsed": false
   },
   "outputs": [
    {
     "name": "stdout",
     "output_type": "stream",
     "text": [
      "Number to divide : 95\n",
      "Number which divides : 4\n",
      "95 is not divisible by 4\n"
     ]
    }
   ],
   "source": [
    "num1=input('Number to divide : ')\n",
    "num2=input('Number which divides : ')\n",
    "num1=int(num1)\n",
    "num2=int(num2)\n",
    "rem= num1 % num2\n",
    "if rem == 0: \n",
    "    print('{} is divisible by {}'.format(num1 , num2))\n",
    "else:\n",
    "    print('{} is not divisible by {}'.format(num1 , num2))"
   ]
  },
  {
   "cell_type": "code",
   "execution_count": null,
   "metadata": {
    "collapsed": true
   },
   "outputs": [],
   "source": []
  },
  {
   "cell_type": "markdown",
   "metadata": {},
   "source": [
    "## Problem 3"
   ]
  },
  {
   "cell_type": "code",
   "execution_count": 3,
   "metadata": {
    "collapsed": false
   },
   "outputs": [
    {
     "name": "stdout",
     "output_type": "stream",
     "text": [
      "[1, 1, 2, 3]\n"
     ]
    }
   ],
   "source": [
    "a = [1, 1, 2, 3, 5, 8, 13, 21, 34, 55, 89]\n",
    "b=[]\n",
    "for i in a:\n",
    "    if i < 5:\n",
    "       b.append(i)\n",
    "print(b)"
   ]
  },
  {
   "cell_type": "code",
   "execution_count": null,
   "metadata": {
    "collapsed": true
   },
   "outputs": [],
   "source": []
  },
  {
   "cell_type": "code",
   "execution_count": null,
   "metadata": {
    "collapsed": true
   },
   "outputs": [],
   "source": []
  },
  {
   "cell_type": "code",
   "execution_count": null,
   "metadata": {
    "collapsed": true
   },
   "outputs": [],
   "source": []
  },
  {
   "cell_type": "code",
   "execution_count": null,
   "metadata": {
    "collapsed": true
   },
   "outputs": [],
   "source": []
  }
 ],
 "metadata": {
  "kernelspec": {
   "display_name": "Python [Root]",
   "language": "python",
   "name": "Python [Root]"
  },
  "language_info": {
   "codemirror_mode": {
    "name": "ipython",
    "version": 3
   },
   "file_extension": ".py",
   "mimetype": "text/x-python",
   "name": "python",
   "nbconvert_exporter": "python",
   "pygments_lexer": "ipython3",
   "version": "3.5.2"
  }
 },
 "nbformat": 4,
 "nbformat_minor": 0
}
